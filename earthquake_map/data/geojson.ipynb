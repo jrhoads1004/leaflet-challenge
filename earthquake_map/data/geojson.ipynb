{
 "cells": [
  {
   "cell_type": "markdown",
   "metadata": {},
   "source": [
    "# [Open Weather API](https://openweathermap.org/api) Request\n",
    "\n",
    "### Similar to the NYT API, the Open Weather API requires that users [register an account](https://home.openweathermap.org/users/sign_up) to obtain an API key.\n",
    "\n",
    "**NOTE**: It may take 10ish minutes for your API key to activate"
   ]
  },
  {
   "cell_type": "markdown",
   "metadata": {},
   "source": [
    "#### Import dependencies"
   ]
  },
  {
   "cell_type": "code",
   "execution_count": 34,
   "metadata": {},
   "outputs": [],
   "source": [
    "import pandas as pd\n",
    "import requests\n",
    "from pprint import pprint\n",
    "import json \n",
    "from pandas import json_normalize\n",
    "# Remember to update the config file with your API key\n"
   ]
  },
  {
   "cell_type": "markdown",
   "metadata": {},
   "source": [
    "#### Save config information & build the query URL\n",
    "\n",
    "As mentioned before, every API is going to have their own syntax for requests. The OpenWeather API requires that you provide your API key using the `appid` parameter, while the query uses the `q` parameter"
   ]
  },
  {
   "cell_type": "code",
   "execution_count": 35,
   "metadata": {},
   "outputs": [],
   "source": [
    "url = \"https://earthquake.usgs.gov/earthquakes/feed/v1.0/summary/significant_week.geojson\"\n",
    "# city = \"Houston\"\n",
    "# units = \"imperial\"\n",
    "\n",
    "# # Build query URL\n",
    "# query_url = url + \"api_key=\" + crime_key + \"&category_id=\" + category_id"
   ]
  },
  {
   "cell_type": "markdown",
   "metadata": {},
   "source": [
    "#### Get weather data"
   ]
  },
  {
   "cell_type": "code",
   "execution_count": 36,
   "metadata": {},
   "outputs": [],
   "source": [
    "r = requests.get(url)\n",
    "geojson = r.json()"
   ]
  },
  {
   "cell_type": "markdown",
   "metadata": {},
   "source": [
    "#### Print the temperature from the response"
   ]
  },
  {
   "cell_type": "code",
   "execution_count": 37,
   "metadata": {},
   "outputs": [
    {
     "name": "stdout",
     "output_type": "stream",
     "text": [
      "{'type': 'FeatureCollection', 'metadata': {'generated': 1608234099000, 'url': 'https://earthquake.usgs.gov/earthquakes/feed/v1.0/summary/significant_week.geojson', 'title': 'USGS Significant Earthquakes, Past Week', 'status': 200, 'api': '1.10.3', 'count': 1}, 'features': [{'type': 'Feature', 'properties': {'mag': 4.36, 'place': '20 km SSE of Waimea, Hawaii', 'time': 1607974071290, 'updated': 1608146933374, 'tz': None, 'url': 'https://earthquake.usgs.gov/earthquakes/eventpage/hv72281637', 'detail': 'https://earthquake.usgs.gov/earthquakes/feed/v1.0/detail/hv72281637.geojson', 'felt': 899, 'cdi': 5.5, 'mmi': 5.809, 'alert': 'green', 'status': 'reviewed', 'tsunami': 0, 'sig': 787, 'net': 'hv', 'code': '72281637', 'ids': ',pt20349001,hv72281637,us7000cr1n,', 'sources': ',pt,hv,us,', 'types': ',dyfi,losspager,origin,phase-data,shakemap,', 'nst': 52, 'dmin': None, 'rms': 0.12, 'gap': 209, 'magType': 'ml', 'type': 'earthquake', 'title': 'M 4.4 - 20 km SSE of Waimea, Hawaii'}, 'geometry': {'type': 'Point', 'coordinates': [-155.568, 19.865, 24.59]}, 'id': 'hv72281637'}]}\n"
     ]
    }
   ],
   "source": [
    "print(geojson)"
   ]
  },
  {
   "cell_type": "code",
   "execution_count": 38,
   "metadata": {},
   "outputs": [
    {
     "name": "stdout",
     "output_type": "stream",
     "text": [
      "{'features': [{'geometry': {'coordinates': [-155.568, 19.865, 24.59],\n",
      "                            'type': 'Point'},\n",
      "               'id': 'hv72281637',\n",
      "               'properties': {'alert': 'green',\n",
      "                              'cdi': 5.5,\n",
      "                              'code': '72281637',\n",
      "                              'detail': 'https://earthquake.usgs.gov/earthquakes/feed/v1.0/detail/hv72281637.geojson',\n",
      "                              'dmin': None,\n",
      "                              'felt': 899,\n",
      "                              'gap': 209,\n",
      "                              'ids': ',pt20349001,hv72281637,us7000cr1n,',\n",
      "                              'mag': 4.36,\n",
      "                              'magType': 'ml',\n",
      "                              'mmi': 5.809,\n",
      "                              'net': 'hv',\n",
      "                              'nst': 52,\n",
      "                              'place': '20 km SSE of Waimea, Hawaii',\n",
      "                              'rms': 0.12,\n",
      "                              'sig': 787,\n",
      "                              'sources': ',pt,hv,us,',\n",
      "                              'status': 'reviewed',\n",
      "                              'time': 1607974071290,\n",
      "                              'title': 'M 4.4 - 20 km SSE of Waimea, Hawaii',\n",
      "                              'tsunami': 0,\n",
      "                              'type': 'earthquake',\n",
      "                              'types': ',dyfi,losspager,origin,phase-data,shakemap,',\n",
      "                              'tz': None,\n",
      "                              'updated': 1608146933374,\n",
      "                              'url': 'https://earthquake.usgs.gov/earthquakes/eventpage/hv72281637'},\n",
      "               'type': 'Feature'}],\n",
      " 'metadata': {'api': '1.10.3',\n",
      "              'count': 1,\n",
      "              'generated': 1608234099000,\n",
      "              'status': 200,\n",
      "              'title': 'USGS Significant Earthquakes, Past Week',\n",
      "              'url': 'https://earthquake.usgs.gov/earthquakes/feed/v1.0/summary/significant_week.geojson'},\n",
      " 'type': 'FeatureCollection'}\n"
     ]
    }
   ],
   "source": [
    "pprint(geojson)"
   ]
  },
  {
   "cell_type": "code",
   "execution_count": 39,
   "metadata": {},
   "outputs": [],
   "source": [
    "# geojson_df = pd.Dataframe()\n",
    "# geojson_df"
   ]
  },
  {
   "cell_type": "code",
   "execution_count": 40,
   "metadata": {},
   "outputs": [
    {
     "data": {
      "text/plain": [
       "dict_keys(['type', 'metadata', 'features'])"
      ]
     },
     "execution_count": 40,
     "metadata": {},
     "output_type": "execute_result"
    }
   ],
   "source": [
    "r.json().keys()"
   ]
  },
  {
   "cell_type": "code",
   "execution_count": 44,
   "metadata": {},
   "outputs": [
    {
     "data": {
      "text/html": [
       "<div>\n",
       "<style scoped>\n",
       "    .dataframe tbody tr th:only-of-type {\n",
       "        vertical-align: middle;\n",
       "    }\n",
       "\n",
       "    .dataframe tbody tr th {\n",
       "        vertical-align: top;\n",
       "    }\n",
       "\n",
       "    .dataframe thead th {\n",
       "        text-align: right;\n",
       "    }\n",
       "</style>\n",
       "<table border=\"1\" class=\"dataframe\">\n",
       "  <thead>\n",
       "    <tr style=\"text-align: right;\">\n",
       "      <th></th>\n",
       "      <th>type</th>\n",
       "      <th>features</th>\n",
       "      <th>metadata.generated</th>\n",
       "      <th>metadata.url</th>\n",
       "      <th>metadata.title</th>\n",
       "      <th>metadata.status</th>\n",
       "      <th>metadata.api</th>\n",
       "      <th>metadata.count</th>\n",
       "    </tr>\n",
       "  </thead>\n",
       "  <tbody>\n",
       "    <tr>\n",
       "      <th>0</th>\n",
       "      <td>FeatureCollection</td>\n",
       "      <td>[{'type': 'Feature', 'properties': {'mag': 4.3...</td>\n",
       "      <td>1608234099000</td>\n",
       "      <td>https://earthquake.usgs.gov/earthquakes/feed/v...</td>\n",
       "      <td>USGS Significant Earthquakes, Past Week</td>\n",
       "      <td>200</td>\n",
       "      <td>1.10.3</td>\n",
       "      <td>1</td>\n",
       "    </tr>\n",
       "  </tbody>\n",
       "</table>\n",
       "</div>"
      ],
      "text/plain": [
       "                type                                           features  \\\n",
       "0  FeatureCollection  [{'type': 'Feature', 'properties': {'mag': 4.3...   \n",
       "\n",
       "   metadata.generated                                       metadata.url  \\\n",
       "0       1608234099000  https://earthquake.usgs.gov/earthquakes/feed/v...   \n",
       "\n",
       "                            metadata.title  metadata.status metadata.api  \\\n",
       "0  USGS Significant Earthquakes, Past Week              200       1.10.3   \n",
       "\n",
       "   metadata.count  \n",
       "0               1  "
      ]
     },
     "execution_count": 44,
     "metadata": {},
     "output_type": "execute_result"
    }
   ],
   "source": [
    "r.json()['type']\n",
    "df = json_normalize(geojson)\n",
    "df.head()"
   ]
  },
  {
   "cell_type": "code",
   "execution_count": 45,
   "metadata": {},
   "outputs": [],
   "source": [
    "df.to_csv(\"geoquake.csv\")"
   ]
  },
  {
   "cell_type": "code",
   "execution_count": 46,
   "metadata": {},
   "outputs": [],
   "source": [
    "df.to_json(\"geoquake.json\")"
   ]
  },
  {
   "cell_type": "code",
   "execution_count": null,
   "metadata": {},
   "outputs": [],
   "source": []
  }
 ],
 "metadata": {
  "kernelspec": {
   "display_name": "Python 3",
   "language": "python",
   "name": "python3"
  },
  "language_info": {
   "codemirror_mode": {
    "name": "ipython",
    "version": 3
   },
   "file_extension": ".py",
   "mimetype": "text/x-python",
   "name": "python",
   "nbconvert_exporter": "python",
   "pygments_lexer": "ipython3",
   "version": "3.8.3"
  },
  "varInspector": {
   "cols": {
    "lenName": 16,
    "lenType": 16,
    "lenVar": 40
   },
   "kernels_config": {
    "python": {
     "delete_cmd_postfix": "",
     "delete_cmd_prefix": "del ",
     "library": "var_list.py",
     "varRefreshCmd": "print(var_dic_list())"
    },
    "r": {
     "delete_cmd_postfix": ") ",
     "delete_cmd_prefix": "rm(",
     "library": "var_list.r",
     "varRefreshCmd": "cat(var_dic_list()) "
    }
   },
   "types_to_exclude": [
    "module",
    "function",
    "builtin_function_or_method",
    "instance",
    "_Feature"
   ],
   "window_display": false
  }
 },
 "nbformat": 4,
 "nbformat_minor": 4
}
